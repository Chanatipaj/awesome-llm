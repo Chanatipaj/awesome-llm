{
 "cells": [
  {
   "cell_type": "code",
   "execution_count": 5,
   "id": "126befcd-66ea-46fb-822f-638a415a7529",
   "metadata": {},
   "outputs": [],
   "source": [
    "#import torch\n",
    "#from unsloth import FastLanguageModel\n",
    "from datasets import load_dataset\n",
    "from trl import SFTTrainer\n",
    "from transformers import TrainingArguments\n",
    "#from unsloth.chat_templates import get_chat_template, standardize_sharegpt"
   ]
  },
  {
   "cell_type": "code",
   "execution_count": 1,
   "id": "c109cbdf-3e22-4d6a-85d8-555f091d0101",
   "metadata": {},
   "outputs": [],
   "source": [
    "import torch"
   ]
  },
  {
   "cell_type": "code",
   "execution_count": null,
   "id": "736c3f72-fb71-4a63-b962-8056b242c1d3",
   "metadata": {},
   "outputs": [],
   "source": []
  }
 ],
 "metadata": {
  "kernelspec": {
   "display_name": "Python 3 (ipykernel)",
   "language": "python",
   "name": "python3"
  },
  "language_info": {
   "codemirror_mode": {
    "name": "ipython",
    "version": 3
   },
   "file_extension": ".py",
   "mimetype": "text/x-python",
   "name": "python",
   "nbconvert_exporter": "python",
   "pygments_lexer": "ipython3",
   "version": "3.9.13"
  }
 },
 "nbformat": 4,
 "nbformat_minor": 5
}
